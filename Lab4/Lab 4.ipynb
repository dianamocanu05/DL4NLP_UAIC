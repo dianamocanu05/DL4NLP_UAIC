{
 "cells": [
  {
   "cell_type": "markdown",
   "id": "3a86135d-9f6f-4c33-bf57-b2957424bab7",
   "metadata": {},
   "source": [
    "# Lab 4"
   ]
  },
  {
   "cell_type": "markdown",
   "id": "b2519331-96d7-47b0-bf7b-97f9f0640e65",
   "metadata": {},
   "source": [
    "1. For two user typed sentence in Romanian, of at least 10 words, use a freely available translation API to translate it into English. You need the correct translations also, so ask the user to validate/enter the correct translation. "
   ]
  },
  {
   "cell_type": "code",
   "execution_count": 21,
   "id": "fcb1a69c-e43c-45d5-b108-00b151b70a69",
   "metadata": {
    "tags": []
   },
   "outputs": [],
   "source": [
    "text_ro_1 = \"În fiecare dimineață, mă trezesc cu razele calde ale soarelui, bucurându-mă de liniștea naturii și cântecul păsărilor în grădina mea.\"\n",
    "text_ro_2 = \"Pe malul râului, sub cerul înstelat, ne-am adunat în jurul focului, împărtășind povești și amintiri cu prietenii dragi.\""
   ]
  },
  {
   "cell_type": "code",
   "execution_count": 22,
   "id": "78ef7462-f0d3-4428-9bfb-b15527e0b5dd",
   "metadata": {
    "tags": []
   },
   "outputs": [],
   "source": [
    "from translate import Translator\n",
    "\n",
    "def translate_text(text, source_language=\"ro\", target_language=\"en\"):\n",
    "    translator = Translator(from_lang=source_language, to_lang=target_language)\n",
    "    translated_text = translator.translate(text)\n",
    "    return translated_text"
   ]
  },
  {
   "cell_type": "code",
   "execution_count": 23,
   "id": "b4326361-9d0b-44bf-9de3-7b5d62c71561",
   "metadata": {
    "tags": []
   },
   "outputs": [
    {
     "name": "stdout",
     "output_type": "stream",
     "text": [
      "Original Text (Romanian): În fiecare dimineață, mă trezesc cu razele calde ale soarelui, bucurându-mă de liniștea naturii și cântecul păsărilor în grădina mea.\n",
      "Translated Text (English): Every morning, I wake up with the warm rays of the sun, enjoying the tranquility of nature and the singing of birds in my garden.\n"
     ]
    }
   ],
   "source": [
    "machine_text_en_1 = translate_text(text_ro_1)\n",
    "print(\"Original Text (Romanian):\", text_ro_1)\n",
    "print(\"Translated Text (English):\", machine_text_en_1)"
   ]
  },
  {
   "cell_type": "code",
   "execution_count": 24,
   "id": "d6841ec5-af8e-45ee-ab79-12c07624d144",
   "metadata": {
    "tags": []
   },
   "outputs": [
    {
     "name": "stdout",
     "output_type": "stream",
     "text": [
      "Original Text (Romanian): Pe malul râului, sub cerul înstelat, ne-am adunat în jurul focului, împărtășind povești și amintiri cu prietenii dragi.\n",
      "Translated Text (English): On the bank of the river, under the starry sky, we gathered around the fire, sharing stories and memories with dear friends.\n"
     ]
    }
   ],
   "source": [
    "machine_text_en_2 = translate_text(text_ro_2)\n",
    "print(\"Original Text (Romanian):\", text_ro_2)\n",
    "print(\"Translated Text (English):\", machine_text_en_2)"
   ]
  },
  {
   "cell_type": "markdown",
   "id": "9dd24cf2-ea9c-462b-b9ca-ff08e0084175",
   "metadata": {},
   "source": [
    "2. Compute precision/recall/f-measure for the machine translations. "
   ]
  },
  {
   "cell_type": "code",
   "execution_count": 17,
   "id": "9cfc2153-ea33-4b0b-8474-d3e9b6bc3e0a",
   "metadata": {
    "tags": []
   },
   "outputs": [],
   "source": [
    "def compute_precision(reference_tokens, machine_tokens):\n",
    "    precision = len(set(reference_tokens) & set(machine_tokens)) / len(machine_tokens)\n",
    "    return precision\n",
    "\n",
    "def compute_recall(reference_tokens, machine_tokens):\n",
    "    recall = len(set(reference_tokens) & set(machine_tokens)) / len(reference_tokens)\n",
    "    return recall\n",
    "\n",
    "def compute_f_measure(precision, recall):\n",
    "    f_measure = (2 * precision * recall) / (precision + recall)\n",
    "    return f_measure"
   ]
  },
  {
   "cell_type": "code",
   "execution_count": 25,
   "id": "06778677-0479-425c-87c6-056579c6d21d",
   "metadata": {
    "tags": []
   },
   "outputs": [],
   "source": [
    "reference_text_en_1 = \"Each morning, I wake up with the warm rays of the sun, enjoying the silence of the nature and the song of the birds in my garden.\"\n",
    "reference_text_en_2 = \"On the river bank, under the starry sky, we gathered around the fire, sharing stories and memories with our dear friends.\""
   ]
  },
  {
   "cell_type": "code",
   "execution_count": 28,
   "id": "52f0fa09-5da8-47e5-b5c7-974a29a8b087",
   "metadata": {
    "tags": []
   },
   "outputs": [
    {
     "name": "stdout",
     "output_type": "stream",
     "text": [
      "Precision 1:  0.68\n",
      "Recall 1:  0.6296296296296297\n",
      "F-measure 1:  0.6538461538461539\n"
     ]
    }
   ],
   "source": [
    "precision_1 = compute_precision(reference_text_en_1.split(), machine_text_en_1.split())\n",
    "print('Precision 1: ', precision_1)\n",
    "\n",
    "recall_1 = compute_recall(reference_text_en_1.split(), machine_text_en_1.split())\n",
    "print('Recall 1: ', recall_1)\n",
    "\n",
    "f_measure_1 = compute_f_measure(precision_1, recall_1)\n",
    "print('F-measure 1: ', f_measure_1)"
   ]
  },
  {
   "cell_type": "code",
   "execution_count": 30,
   "id": "3534ea5d-41f5-447f-9c14-f93d418ee661",
   "metadata": {
    "tags": []
   },
   "outputs": [
    {
     "name": "stdout",
     "output_type": "stream",
     "text": [
      "Precision 2:  0.7272727272727273\n",
      "Recall 2:  0.7619047619047619\n",
      "F-measure 2:  0.7441860465116279\n"
     ]
    }
   ],
   "source": [
    "precision_2 = compute_precision(reference_text_en_2.split(), machine_text_en_2.split())\n",
    "print('Precision 2: ', precision_2)\n",
    "\n",
    "recall_2 = compute_recall(reference_text_en_2.split(), machine_text_en_2.split())\n",
    "print('Recall 2: ', recall_2)\n",
    "\n",
    "f_measure_2 = compute_f_measure(precision_2, recall_2)\n",
    "print('F-measure 2: ', f_measure_2)"
   ]
  },
  {
   "cell_type": "markdown",
   "id": "2f25e8e8-d9b6-4143-ba63-143190b863f4",
   "metadata": {},
   "source": [
    "3. Compare the result you obtained with the results you obtain for the same pairs when using NLTK`s BLEU."
   ]
  },
  {
   "cell_type": "code",
   "execution_count": 32,
   "id": "acefae87-5f5f-4ca2-86b2-f5d09789bc18",
   "metadata": {
    "tags": []
   },
   "outputs": [],
   "source": [
    "import nltk\n",
    "from nltk.translate.bleu_score import sentence_bleu"
   ]
  },
  {
   "cell_type": "code",
   "execution_count": 33,
   "id": "424d81de-09c9-4e0e-83df-198283d683bc",
   "metadata": {
    "tags": []
   },
   "outputs": [
    {
     "name": "stdout",
     "output_type": "stream",
     "text": [
      "BLEU Score for Phrase 1: 0.653140956467441\n",
      "BLEU Score for Phrase 2: 0.7398764520940078\n"
     ]
    }
   ],
   "source": [
    "reference1_tokens = nltk.word_tokenize(reference_text_en_1)\n",
    "reference2_tokens = nltk.word_tokenize(reference_text_en_2)\n",
    "machine_translation1_tokens = nltk.word_tokenize(machine_text_en_1)\n",
    "machine_translation2_tokens = nltk.word_tokenize(machine_text_en_2)\n",
    "\n",
    "bleu_score1 = sentence_bleu([reference1_tokens], machine_translation1_tokens)\n",
    "bleu_score2 = sentence_bleu([reference2_tokens], machine_translation2_tokens)\n",
    "\n",
    "print(\"BLEU Score for Phrase 1:\", bleu_score1)\n",
    "print(\"BLEU Score for Phrase 2:\", bleu_score2)"
   ]
  },
  {
   "cell_type": "code",
   "execution_count": null,
   "id": "6fc11619-c5ee-47ca-a0e9-37f3fdc8fb6c",
   "metadata": {},
   "outputs": [],
   "source": []
  }
 ],
 "metadata": {
  "kernelspec": {
   "display_name": "Python 3 (ipykernel)",
   "language": "python",
   "name": "python3"
  },
  "language_info": {
   "codemirror_mode": {
    "name": "ipython",
    "version": 3
   },
   "file_extension": ".py",
   "mimetype": "text/x-python",
   "name": "python",
   "nbconvert_exporter": "python",
   "pygments_lexer": "ipython3",
   "version": "3.9.13"
  }
 },
 "nbformat": 4,
 "nbformat_minor": 5
}
